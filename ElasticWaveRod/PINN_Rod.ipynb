{
  "nbformat": 4,
  "nbformat_minor": 0,
  "metadata": {
    "colab": {
      "name": "PINN_Rod.ipynb",
      "provenance": [],
      "authorship_tag": "ABX9TyO4PSX2My8XW5BLiuhCEauo",
      "include_colab_link": true
    },
    "kernelspec": {
      "name": "python3",
      "display_name": "Python 3"
    },
    "accelerator": "GPU"
  },
  "cells": [
    {
      "cell_type": "markdown",
      "metadata": {
        "id": "view-in-github",
        "colab_type": "text"
      },
      "source": [
        "<a href=\"https://colab.research.google.com/github/tianxiang84/PINN-elastodynamics/blob/wave_1d_rod/ElasticWaveRod/PINN_Rod.ipynb\" target=\"_parent\"><img src=\"https://colab.research.google.com/assets/colab-badge.svg\" alt=\"Open In Colab\"/></a>"
      ]
    },
    {
      "cell_type": "markdown",
      "metadata": {
        "id": "5KE_mEATuYGW"
      },
      "source": [
        "Import libraries"
      ]
    },
    {
      "cell_type": "code",
      "metadata": {
        "colab": {
          "base_uri": "https://localhost:8080/"
        },
        "id": "lG4Xz3Got30_",
        "outputId": "a7e7f73f-1a59-4120-e7ee-ebd49278c008"
      },
      "source": [
        "# Platform-related functions\r\n",
        "import platform\r\n",
        "# System specific functions\r\n",
        "import sys\r\n",
        "# Dealing with I/O streams\r\n",
        "import os\r\n",
        "os.environ['CUDA_VISIBLE_DEVICES'] = '0'\r\n",
        "# Time-related functions\r\n",
        "import time\r\n",
        "# File operation\r\n",
        "import shutil\r\n",
        "# Serializing and de-serializing a Python object structure\r\n",
        "import pickle\r\n",
        "\r\n",
        "# Setup GPU for training\r\n",
        "%tensorflow_version 1.x\r\n",
        "import tensorflow as tf\r\n",
        "tf.set_random_seed(1111)\r\n",
        "# Math functions defined in C standard\r\n",
        "import math\r\n",
        "# Multi-dimensional array calculation\r\n",
        "import numpy as np\r\n",
        "np.random.seed(1111)\r\n",
        "# Data analysis and manipulation\r\n",
        "import pandas as pd\r\n",
        "# Dealing with MATLAB files\r\n",
        "import scipy.io\r\n",
        "# Desig n of experiments for Python\r\n",
        "!pip install --upgrade pyDOE\r\n",
        "from pyDOE import lhs\r\n",
        "\r\n",
        "# For plotting\r\n",
        "import matplotlib\r\n",
        "if platform.system()=='Linux':\r\n",
        "    matplotlib.use('Agg')\r\n",
        "if platform.system()=='Windows':\r\n",
        "    from mpl_toolkits.mplot3d import Axes3D\r\n",
        "import matplotlib.pyplot as plt"
      ],
      "execution_count": 1,
      "outputs": [
        {
          "output_type": "stream",
          "text": [
            "TensorFlow 1.x selected.\n",
            "Requirement already up-to-date: pyDOE in /usr/local/lib/python3.6/dist-packages (0.3.8)\n",
            "Requirement already satisfied, skipping upgrade: scipy in /usr/local/lib/python3.6/dist-packages (from pyDOE) (1.4.1)\n",
            "Requirement already satisfied, skipping upgrade: numpy in /usr/local/lib/python3.6/dist-packages (from pyDOE) (1.19.5)\n"
          ],
          "name": "stdout"
        }
      ]
    },
    {
      "cell_type": "markdown",
      "metadata": {
        "id": "b3t3b4gx3s_e"
      },
      "source": [
        "Check GPU availability (On Google Colab, please use Runtime --> Change runtime type is you see an empty list as output.)"
      ]
    },
    {
      "cell_type": "code",
      "metadata": {
        "id": "3gHRHZCsud2u",
        "outputId": "4e47da62-91ba-4c6a-f770-e8371e216e4e",
        "colab": {
          "base_uri": "https://localhost:8080/"
        }
      },
      "source": [
        "from tensorflow.python.client import device_lib\r\n",
        "\r\n",
        "def get_available_gpus():\r\n",
        "    local_device_protos = device_lib.list_local_devices()\r\n",
        "    return [x.name for x in local_device_protos if x.device_type == 'GPU']\r\n",
        "\r\n",
        "get_available_gpus()"
      ],
      "execution_count": 2,
      "outputs": [
        {
          "output_type": "execute_result",
          "data": {
            "text/plain": [
              "['/device:GPU:0']"
            ]
          },
          "metadata": {
            "tags": []
          },
          "execution_count": 2
        }
      ]
    },
    {
      "cell_type": "code",
      "metadata": {
        "id": "_p-ZvaEu3AaE"
      },
      "source": [
        ""
      ],
      "execution_count": 2,
      "outputs": []
    }
  ]
}