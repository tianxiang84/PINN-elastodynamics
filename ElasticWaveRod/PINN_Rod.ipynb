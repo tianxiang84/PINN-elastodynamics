{
  "nbformat": 4,
  "nbformat_minor": 0,
  "metadata": {
    "colab": {
      "name": "PINN_Rod.ipynb",
      "provenance": [],
      "authorship_tag": "ABX9TyNXzcxG+QFXhNL6HqFDl5ul",
      "include_colab_link": true
    },
    "kernelspec": {
      "name": "python3",
      "display_name": "Python 3"
    },
    "accelerator": "GPU"
  },
  "cells": [
    {
      "cell_type": "markdown",
      "metadata": {
        "id": "view-in-github",
        "colab_type": "text"
      },
      "source": [
        "<a href=\"https://colab.research.google.com/github/tianxiang84/PINN-elastodynamics/blob/wave_1d_rod/ElasticWaveRod/PINN_Rod.ipynb\" target=\"_parent\"><img src=\"https://colab.research.google.com/assets/colab-badge.svg\" alt=\"Open In Colab\"/></a>"
      ]
    },
    {
      "cell_type": "markdown",
      "metadata": {
        "id": "5KE_mEATuYGW"
      },
      "source": [
        "Import libraries"
      ]
    },
    {
      "cell_type": "code",
      "metadata": {
        "colab": {
          "base_uri": "https://localhost:8080/"
        },
        "id": "lG4Xz3Got30_",
        "outputId": "9f5704d3-45db-42ce-87c7-1708a64b59d7"
      },
      "source": [
        "# Platform-related functions\r\n",
        "import platform\r\n",
        "# System specific functions\r\n",
        "import sys\r\n",
        "# Dealing with I/O streams\r\n",
        "import os\r\n",
        "os.environ['CUDA_VISIBLE_DEVICES'] = '0'\r\n",
        "# Time-related functions\r\n",
        "import time\r\n",
        "# File operation\r\n",
        "import shutil\r\n",
        "# Serializing and de-serializing a Python object structure\r\n",
        "import pickle\r\n",
        "\r\n",
        "# Setup GPU for training\r\n",
        "%tensorflow_version 1.x\r\n",
        "import tensorflow as tf\r\n",
        "tf.set_random_seed(1111)\r\n",
        "# Math functions defined in C standard\r\n",
        "import math\r\n",
        "# Multi-dimensional array calculation\r\n",
        "import numpy as np\r\n",
        "np.random.seed(1111)\r\n",
        "# Data analysis and manipulation\r\n",
        "import pandas as pd\r\n",
        "# Dealing with MATLAB files\r\n",
        "import scipy.io\r\n",
        "# Desig n of experiments for Python\r\n",
        "!pip install --upgrade pyDOE\r\n",
        "from pyDOE import lhs\r\n",
        "\r\n",
        "# For plotting\r\n",
        "import matplotlib\r\n",
        "if platform.system()=='Linux':\r\n",
        "    matplotlib.use('Agg')\r\n",
        "if platform.system()=='Windows':\r\n",
        "    from mpl_toolkits.mplot3d import Axes3D\r\n",
        "import matplotlib.pyplot as plt"
      ],
      "execution_count": 1,
      "outputs": [
        {
          "output_type": "stream",
          "text": [
            "TensorFlow 1.x selected.\n",
            "Collecting pyDOE\n",
            "  Downloading https://files.pythonhosted.org/packages/bc/ac/91fe4c039e2744466621343d3b8af4a485193ed0aab53af5b1db03be0989/pyDOE-0.3.8.zip\n",
            "Requirement already satisfied, skipping upgrade: numpy in /usr/local/lib/python3.6/dist-packages (from pyDOE) (1.19.5)\n",
            "Requirement already satisfied, skipping upgrade: scipy in /usr/local/lib/python3.6/dist-packages (from pyDOE) (1.4.1)\n",
            "Building wheels for collected packages: pyDOE\n",
            "  Building wheel for pyDOE (setup.py) ... \u001b[?25l\u001b[?25hdone\n",
            "  Created wheel for pyDOE: filename=pyDOE-0.3.8-cp36-none-any.whl size=18178 sha256=5025a40c338ea118bd8ab1171f07efebadfc0a91199b206682664db0d096487d\n",
            "  Stored in directory: /root/.cache/pip/wheels/7c/c8/58/a6493bd415e8ba5735082b5e0c096d7c1f2933077a8ce34544\n",
            "Successfully built pyDOE\n",
            "Installing collected packages: pyDOE\n",
            "Successfully installed pyDOE-0.3.8\n"
          ],
          "name": "stdout"
        }
      ]
    },
    {
      "cell_type": "markdown",
      "metadata": {
        "id": "b3t3b4gx3s_e"
      },
      "source": [
        "Check GPU availability (On Google Colab, please use Runtime --> Change runtime type is you see an empty list as output.)"
      ]
    },
    {
      "cell_type": "code",
      "metadata": {
        "id": "3gHRHZCsud2u",
        "colab": {
          "base_uri": "https://localhost:8080/"
        },
        "outputId": "b17ef9dd-35f0-424c-e3a9-e56e1feb77c2"
      },
      "source": [
        "from tensorflow.python.client import device_lib\r\n",
        "\r\n",
        "def get_available_gpus():\r\n",
        "    local_device_protos = device_lib.list_local_devices()\r\n",
        "    return [x.name for x in local_device_protos if x.device_type == 'GPU']\r\n",
        "\r\n",
        "get_available_gpus()"
      ],
      "execution_count": 2,
      "outputs": [
        {
          "output_type": "execute_result",
          "data": {
            "text/plain": [
              "['/device:GPU:0']"
            ]
          },
          "metadata": {
            "tags": []
          },
          "execution_count": 2
        }
      ]
    },
    {
      "cell_type": "markdown",
      "metadata": {
        "id": "ov7mTSFt6zRd"
      },
      "source": [
        "Functions to generate rows of samples: x, y, t, u, v, s11, s22, s12"
      ]
    },
    {
      "cell_type": "code",
      "metadata": {
        "id": "2Qsxbusi26xc"
      },
      "source": [
        "def GenDistPt(xmin, xmax, ymin, ymax, tmin, tmax, xc, yc, r, num_surf_pt, num, num_t):\r\n",
        "    # Function to generate discret points in the x-y-t domain\r\n",
        "    # First generate a uniform x-y grid\r\n",
        "    # Then delete the points in the hole\r\n",
        "    # Then add the points lining the hole\r\n",
        "    # Finally add time dimension points\r\n",
        "\r\n",
        "    # num: number per edge\r\n",
        "    # num_t: number time step\r\n",
        "\r\n",
        "    x = np.linspace(xmin, xmax, num=num)\r\n",
        "    y = np.linspace(ymin, ymax, num=num)\r\n",
        "    x, y = np.meshgrid(x, y)\r\n",
        "\r\n",
        "    # Delete point in hole\r\n",
        "    dst = ((x - xc) ** 2 + (y - yc) ** 2) ** 0.5\r\n",
        "    x = x[dst >= r]\r\n",
        "    y = y[dst >= r]\r\n",
        "    x = x.flatten()[:, None]\r\n",
        "    y = y.flatten()[:, None]\r\n",
        "\r\n",
        "    # Refinement point near hole surface\r\n",
        "    theta = np.linspace(0.0, np.pi / 2.0, num_surf_pt)\r\n",
        "    x_surf = np.multiply(r, np.cos(theta)) + xc\r\n",
        "    y_surf = np.multiply(r, np.sin(theta)) + yc\r\n",
        "    x_surf = x_surf.flatten()[:, None]\r\n",
        "    y_surf = y_surf.flatten()[:, None]\r\n",
        "    x = np.concatenate((x, x_surf), 0)\r\n",
        "    y = np.concatenate((y, y_surf), 0)\r\n",
        "\r\n",
        "    # Cartisian product with time points\r\n",
        "    t = np.linspace(tmin, tmax, num=num_t)\r\n",
        "    xxx, ttt = np.meshgrid(x, t)\r\n",
        "    yyy,   _ = np.meshgrid(y, t)\r\n",
        "    xxx = xxx.flatten()[:, None]\r\n",
        "    yyy = yyy.flatten()[:, None]\r\n",
        "    ttt = ttt.flatten()[:, None]\r\n",
        "    return xxx, yyy, ttt\r\n",
        "\r\n",
        "def GenDist(XYT_dist):\r\n",
        "    # Pass in XYT, outptu XYT, u, v, s11, s22, s12\r\n",
        "    \r\n",
        "    dist_u = np.zeros_like(XYT_dist[:, 0:1]) # Return an array of zeros with the same shape and type as a given array.\r\n",
        "    dist_v = np.zeros_like(XYT_dist[:, 0:1])\r\n",
        "    dist_s11 = np.zeros_like(XYT_dist[:, 0:1])\r\n",
        "    dist_s22 = np.zeros_like(XYT_dist[:, 0:1])\r\n",
        "    dist_s12 = np.zeros_like(XYT_dist[:, 0:1])\r\n",
        "\r\n",
        "    for i in range(len(XYT_dist)):\r\n",
        "        dist_u[i, 0] = min(XYT_dist[i][2], XYT_dist[i][0])  # min(t, x-(-0.5))\r\n",
        "        dist_v[i, 0] = min(XYT_dist[i][2], XYT_dist[i][1])  # min(t, sqrt((x+0.5)^2+(y+0.5)^2))\r\n",
        "        dist_s11[i, 0] = min(XYT_dist[i][2], 0.5 - XYT_dist[i][0])\r\n",
        "        dist_s22[i, 0] = min(XYT_dist[i][2], 0.5 - XYT_dist[i][1])  # min(t, 0.5-y, 0.5+y)\r\n",
        "        dist_s12[i, 0] = min(XYT_dist[i][2], XYT_dist[i][1], 0.5 - XYT_dist[i][1], XYT_dist[i][0], 0.5 - XYT_dist[i][0])\r\n",
        "    \r\n",
        "    DIST = np.concatenate((XYT_dist, dist_u, dist_v, dist_s11, dist_s22, dist_s12), 1)\r\n",
        "\r\n",
        "    return DIST\r\n",
        "\r\n",
        "def DelHolePT(XYT_c, xc=0, yc=0, r=0.1):\r\n",
        "    # Input rows of points [x,y,t]\r\n",
        "    # Delete points within hole\r\n",
        "    # Return only the points outside the hole\r\n",
        "    \r\n",
        "    dst = np.array([((xyt[0] - xc) ** 2 + (xyt[1] - yc) ** 2) ** 0.5 for xyt in XYT_c])\r\n",
        "\r\n",
        "    return XYT_c[dst > r, :]\r\n",
        "\r\n",
        "\r\n",
        "def GenHoleSurfPT(xc, yc, r, N_PT):\r\n",
        "    # Generate\r\n",
        "    theta = np.linspace(0.0, np.pi / 2.0, N_PT)\r\n",
        "    xx = np.multiply(r, np.cos(theta)) + xc\r\n",
        "    yy = np.multiply(r, np.sin(theta)) + yc\r\n",
        "    xx = xx.flatten()[:, None]\r\n",
        "    yy = yy.flatten()[:, None]\r\n",
        "    return xx, yy"
      ],
      "execution_count": 9,
      "outputs": []
    },
    {
      "cell_type": "markdown",
      "metadata": {
        "id": "OxGPscYt6-Ho"
      },
      "source": [
        "Parameters"
      ]
    },
    {
      "cell_type": "code",
      "metadata": {
        "id": "6zFfgNjL1UBk"
      },
      "source": [
        "PI = math.pi\r\n",
        "MAX_T = 10.0\r\n",
        "\r\n",
        "# Domain bounds for x, y and t\r\n",
        "lb = np.array([0.0, 0.0,   0.0]) # lower bounds for (x,y,t)\r\n",
        "ub = np.array([0.5, 0.5, MAX_T]) # upper bounds for (x,y,t)\r\n",
        "\r\n",
        "# Network configuration\r\n",
        "uv_layers   = [3] + 8 * [70] + [5] #list [3, 70, ...., 70, 5]\r\n",
        "dist_layers = [3] + 4 * [20] + [5]\r\n",
        "part_layers = [3] + 4 * [20] + [5]\r\n",
        "\r\n",
        "# ????????????????????????????????? #\r\n",
        "# Number of frames for postprocessing\r\n",
        "N_t = int(MAX_T * 8 + 1) #integer: 81"
      ],
      "execution_count": 4,
      "outputs": []
    },
    {
      "cell_type": "code",
      "metadata": {
        "id": "t4m9lCHj2pBs"
      },
      "source": [
        "# Generate distance function for spatio-temporal space\r\n",
        "x_dist, y_dist, t_dist = GenDistPt(xmin=0, xmax=0.5, ymin=0, ymax=0.5, tmin=0, tmax=10, xc=0, yc=0, r=0.1,\r\n",
        "                                       num_surf_pt=40, num=21, num_t=21)\r\n",
        "# x_dist: (9786,1)\r\n",
        "# y_dist: (9786,1)\r\n",
        "# t_dist: (9786,1)\r\n",
        "\r\n",
        "XYT_dist = np.concatenate((x_dist, y_dist, t_dist), 1)\r\n",
        "# XYT_dist: (9786,3) (x1,y1,t1; x2,y2,t2)\r\n",
        "\r\n",
        "# ????????????????????????????????? #\r\n",
        "DIST = GenDist(XYT_dist)\r\n",
        "# XYT, u, v, s11, s22, s12\r\n",
        "# DIST: (9786, 8)\r\n",
        "\r\n",
        "# Initial condition points for u, v\r\n",
        "IC = lb + np.array([0.5, 0.5, 0.0]) * lhs(3, 5000) #Latin hypercube sampling\r\n",
        "IC = DelHolePT(IC, xc=0, yc=0, r=0.1) # Delete the points in the hole\r\n",
        "\r\n",
        "# IC: not deterministic, e.g, (4833,3), filtered from (5000, 3)\r\n",
        "# [x1,y1,0]\r\n",
        "# [x2,y2,0]\r\n",
        "\r\n",
        "# Collocation point for equation residual: x in (0, 0.5) , y in (0, 0.5)\r\n",
        "XYT_c = lb + (ub - lb) * lhs(3, 70000)\r\n",
        "XYT_c_ref = lb + np.array([0.15, 0.15, 10.0]) * lhs(3, 40000)  # Refinement for stress concentration\r\n",
        "XYT_c = np.concatenate((XYT_c, XYT_c_ref), 0)\r\n",
        "XYT_c = DelHolePT(XYT_c, xc=0, yc=0, r=0.1)\r\n",
        "\r\n",
        "# XYT_c.shape = (93831,3)\r\n",
        "\r\n",
        "# Points along the hole (center at 0, 0, radius is 0.1)\r\n",
        "xx, yy = GenHoleSurfPT(xc=0, yc=0, r=0.1, N_PT=83)\r\n",
        "tt = np.linspace(0, 10, 121)\r\n",
        "tt = tt[1:] # Delete the first point\r\n",
        "x_ho, t_ho = np.meshgrid(xx, tt)\r\n",
        "y_ho, _ = np.meshgrid(yy, tt)\r\n",
        "x_ho = x_ho.flatten()[:, None]\r\n",
        "y_ho = y_ho.flatten()[:, None]\r\n",
        "t_ho = t_ho.flatten()[:, None]\r\n",
        "HOLE = np.concatenate((x_ho, y_ho, t_ho), 1)\r\n",
        "\r\n",
        "# Boundary points\r\n",
        "LW = np.array([0.1, 0.0, 0.0]) + np.array([0.4, 0.0, 10]) * lhs(3, 8000)\r\n",
        "UP = np.array([0.0, 0.5, 0.0]) + np.array([0.5, 0.0, 10]) * lhs(3, 8000)\r\n",
        "LF = np.array([0.0, 0.1, 0.0]) + np.array([0.0, 0.4, 10]) * lhs(3, 8000)\r\n",
        "RT = np.array([0.5, 0.0, 0.0]) + np.array([0.0, 0.5, 10]) * lhs(3, 13000)"
      ],
      "execution_count": 19,
      "outputs": []
    },
    {
      "cell_type": "code",
      "metadata": {
        "id": "cAC00Ao71piB",
        "colab": {
          "base_uri": "https://localhost:8080/"
        },
        "outputId": "72dc2d19-62f2-4f0b-f57f-c7c28df16a10"
      },
      "source": [
        "a = np.linspace(0, 10, 121)\r\n",
        "a[-2:]"
      ],
      "execution_count": 16,
      "outputs": [
        {
          "output_type": "execute_result",
          "data": {
            "text/plain": [
              "array([ 9.91666667, 10.        ])"
            ]
          },
          "metadata": {
            "tags": []
          },
          "execution_count": 16
        }
      ]
    },
    {
      "cell_type": "code",
      "metadata": {
        "id": "_p-ZvaEu3AaE"
      },
      "source": [
        "# To continue\r\n",
        "\r\n",
        "\r\n",
        "\r\n",
        "\r\n",
        "\r\n",
        "\r\n",
        "    t_RT = RT[:, 2:3]\r\n",
        "    period = 5  # two period in 10s\r\n",
        "    s11_RT = 0.5 * np.sin((2 * PI / period) * t_RT + 3 * PI / 2) + 0.5\r\n",
        "    RT = np.concatenate((RT, s11_RT), 1)\r\n",
        "\r\n",
        "    # Add some boundary points into the collocation point set\r\n",
        "    XYT_c = np.concatenate((XYT_c, HOLE[::4, :], LF[::5, :], RT[::5, 0:3], UP[::5, :], LW[::5, :]), 0)\r\n",
        "\r\n",
        "    # Visualize ALL the training points\r\n",
        "    # fig = plt.figure()\r\n",
        "    # ax = fig.add_subplot(111, projection='3d')\r\n",
        "    # ax.scatter(XYT_c[:,0:1], XYT_c[:,1:2], XYT_c[:,2:3], marker='o', alpha=0.1, s=2, color='blue')\r\n",
        "    # ax.scatter(IC[:, 0:1], IC[:, 1:2], IC[:, 2:3], marker='o', alpha=0.1, s=2, color='blue')\r\n",
        "    # ax.scatter(LW[:, 0:1], LW[:, 1:2], LW[:, 2:3], marker='o', alpha=0.1, s=2, color='blue')\r\n",
        "    # ax.scatter(UP[:, 0:1], UP[:, 1:2], UP[:, 2:3], marker='o', alpha=0.1, s=2, color='blue')\r\n",
        "    # ax.scatter(LF[:, 0:1], LF[:, 1:2], LF[:, 2:3], marker='o', alpha=0.1, s=2, color='blue')\r\n",
        "    # ax.scatter(RT[:, 0:1], RT[:, 1:2], RT[:, 2:3], marker='o', alpha=0.1, s=2, color='blue')\r\n",
        "    # ax.scatter(HOLE[:, 0:1], HOLE[:, 1:2], HOLE[:, 2:3], marker='o', alpha=0.3, s=2, color='red')\r\n",
        "    # ax.set_xlabel('X axis')\r\n",
        "    # ax.set_ylabel('Y axis')\r\n",
        "    # ax.set_zlabel('T axis')\r\n",
        "    # plt.show()\r\n",
        "\r\n",
        "    with tf.device('/device:GPU:0'):\r\n",
        "\r\n",
        "        config = tf.ConfigProto()\r\n",
        "        config.gpu_options.allow_growth = True\r\n",
        "        session = tf.Session(config=config)\r\n",
        "\r\n",
        "        # Provide directory (second init) for pretrained networks if you have\r\n",
        "        model = PINN(XYT_c, HOLE, IC, LF, RT, UP, LW, DIST, uv_layers, dist_layers, part_layers, lb, ub)\r\n",
        "        # model = PINN(XYT_c, HOLE, IC, LF, RT, UP, LW, DIST, uv_layers, dist_layers, part_layers, lb, ub,\r\n",
        "        #                 partDir='./partNN_float64.pickle', distDir='./distNN_float64.pickle', uvDir='uvNN_float64.pickle')\r\n",
        "\r\n",
        "        # Train the distance function\r\n",
        "        model.train_bfgs_dist()\r\n",
        "        model.count = 0\r\n",
        "\r\n",
        "        # Train the NN for particular solution\r\n",
        "        model.train_bfgs_part()\r\n",
        "        model.count = 0\r\n",
        "\r\n",
        "        # Train the composite network\r\n",
        "        start_time = time.time()\r\n",
        "        # model.train(iter=1000, learning_rate=5e-4)\r\n",
        "        model.train_bfgs()\r\n",
        "        print(\"--- %s seconds ---\" % (time.time() - start_time))\r\n",
        "\r\n",
        "        # Save the trained model\r\n",
        "        model.save_NN('uvNN_float64.pickle', TYPE='UV')\r\n",
        "        model.save_NN('distNN_float64.pickle', TYPE='DIST')\r\n",
        "        model.save_NN('partNN_float64.pickle', TYPE='PART')\r\n",
        "\r\n",
        "        # Check the loss for each part\r\n",
        "        model.getloss()\r\n",
        "\r\n",
        "        # Output result at each time step\r\n",
        "        x_star = np.linspace(0, 0.5, 251)\r\n",
        "        y_star = np.linspace(0, 0.5, 251)\r\n",
        "        x_star, y_star = np.meshgrid(x_star, y_star)\r\n",
        "        x_star = x_star.flatten()[:, None]\r\n",
        "        y_star = y_star.flatten()[:, None]\r\n",
        "        dst = ((x_star - 0) ** 2 + (y_star - 0) ** 2) ** 0.5\r\n",
        "        x_star = x_star[dst >= 0.1]\r\n",
        "        y_star = y_star[dst >= 0.1]\r\n",
        "        x_star = x_star.flatten()[:, None]\r\n",
        "        y_star = y_star.flatten()[:, None]\r\n",
        "        shutil.rmtree('./output', ignore_errors=True)\r\n",
        "        os.makedirs('./output')\r\n",
        "        for i in range(N_t):\r\n",
        "            t_star = np.zeros((x_star.size, 1))\r\n",
        "            t_star.fill(i * MAX_T / (N_t - 1))\r\n",
        "            u_pred, v_pred, s11_pred, s22_pred, s12_pred, e11_pred, e22_pred, e12_pred = model.predict(x_star, y_star, t_star)\r\n",
        "            field = [x_star, y_star, t_star, u_pred, v_pred, s11_pred, s22_pred, s12_pred]\r\n",
        "            amp_pred = (u_pred ** 2 + v_pred ** 2) ** 0.5\r\n",
        "            postProcessDef(xmin=0, xmax=0.50, ymin=0, ymax=0.50, num=i, s=4, scale=0, field=field)\r\n",
        "\r\n",
        "\r\n",
        "        ############################################################\r\n",
        "        ######### Plot the stress distr on the notch ###############\r\n",
        "        ############################################################\r\n",
        "        theta = np.linspace(0.0, np.pi / 2.0, 100)\r\n",
        "        def getPINNsol(time):\r\n",
        "            r = 0.1\r\n",
        "            x_surf = np.multiply(r, np.cos(theta))\r\n",
        "            y_surf = np.multiply(r, np.sin(theta))\r\n",
        "            x_surf = x_surf.flatten()[:, None]\r\n",
        "            y_surf = y_surf.flatten()[:, None]\r\n",
        "            t_surf = 0 * y_surf + time\r\n",
        "            u_surf, v_surf, s11_surf, s22_surf, s12_surf, _, _, _ = model.predict(x_surf, y_surf, t_surf)\r\n",
        "            return u_surf, v_surf, s11_surf, s22_surf, s12_surf\r\n",
        "        #\r\n",
        "        def getFEMsol(time):\r\n",
        "            num = int(time / 0.125)  # num of frame\r\n",
        "            [x_star, y_star, u_star, v_star, s11_star, s22_star, s12_star] = preprocess(\r\n",
        "                '../FEM_result/Quarter_plate_hole_dynamic/ProbeData-' + str(num) + '.mat')\r\n",
        "            mask = (x_star ** 2 + y_star ** 2) <= 0.010001\r\n",
        "            return x_star[mask], y_star[mask], s11_star[mask], s22_star[mask], s12_star[mask]\r\n",
        "        #\r\n",
        "        # Plot stress distribution for s11 on circular surf\r\n",
        "        plt.figure(figsize=(5, 5))\r\n",
        "        _, _, s11_surf, _, _ = getPINNsol(2.5)\r\n",
        "        plt.plot(theta * 180 / np.pi, s11_surf, '-', alpha=0.8, label='t=2.5s, PINN', color='blue')\r\n",
        "        x_star, _, s11_star, _, _ = getFEMsol(2.5)\r\n",
        "        plt.scatter(np.arccos(x_star / 0.1) * 180 / np.pi, s11_star, marker='^', s=7, color='blue', alpha=1,\r\n",
        "                    label='t=2.5s, FEM')\r\n",
        "        _, _, s11_surf, _, _ = getPINNsol(3.75)\r\n",
        "        plt.plot(theta * 180 / np.pi, s11_surf, '-', alpha=0.8, label='t=3.75s, PINN', color='green')\r\n",
        "        x_star, _, s11_star, _, _ = getFEMsol(3.75)\r\n",
        "        plt.scatter(np.arccos(x_star / 0.1) * 180 / np.pi, s11_star, marker='^', s=7, color='green', alpha=1,\r\n",
        "                    label='t=3.75s, FEM')\r\n",
        "        _, _, s11_surf, _, _ = getPINNsol(5.0)\r\n",
        "        plt.plot(theta * 180 / np.pi, s11_surf, '-', alpha=0.8, label='t=5.0s, PINN', color='red')\r\n",
        "        x_star, _, s11_star, _, _ = getFEMsol(5.0)\r\n",
        "        plt.scatter(np.arccos(x_star / 0.1) * 180 / np.pi, s11_star, marker='^', s=7, color='red', alpha=1,\r\n",
        "                    label='t=5.0s, FEM')\r\n",
        "        plt.xlim([0, 90])\r\n",
        "        plt.xticks([0, 30, 60, 90], fontsize=11)\r\n",
        "        plt.ylim([-0.5, 3.5])\r\n",
        "        plt.yticks([0, 1, 2, 3], fontsize=11)\r\n",
        "        plt.xlabel(r'$\\theta$/degree', fontsize=12)\r\n",
        "        plt.ylabel(r'$\\sigma_{11}$\\kPa', fontsize=12)\r\n",
        "        plt.legend(fontsize=12, frameon=False)\r\n",
        "        plt.savefig('s11_comparison.pdf',dpi=300)\r\n",
        "        plt.show()\r\n",
        "\r\n",
        "        # Plot stress distribution for s22 on circular surf\r\n",
        "        plt.figure(figsize=(5, 5))\r\n",
        "        _, _, _, s22_surf, _ = getPINNsol(2.5)\r\n",
        "        plt.plot(theta * 180 / np.pi, s22_surf, '-', alpha=0.8, label='t=2.5s, PINN', color='blue')\r\n",
        "        x_star, _, _, s22_star, _ = getFEMsol(2.5)\r\n",
        "        plt.scatter(np.arccos(x_star / 0.1) * 180 / np.pi, s22_star, marker='^', s=7, color='blue', alpha=1,\r\n",
        "                    label='t=2.5s, FEM')\r\n",
        "        _, _, _, s22_surf, _ = getPINNsol(3.75)\r\n",
        "        plt.plot(theta * 180 / np.pi, s22_surf, '-', alpha=0.8, label='t=3.75s, PINN', color='green')\r\n",
        "        x_star, _, _, s22_star, _ = getFEMsol(3.75)\r\n",
        "        plt.scatter(np.arccos(x_star / 0.1) * 180 / np.pi, s22_star, marker='^', s=7, color='green', alpha=1,\r\n",
        "                    label='t=3.75s, FEM')\r\n",
        "        _, _, _, s22_surf, _ = getPINNsol(5.0)\r\n",
        "        plt.plot(theta * 180 / np.pi, s22_surf, '-', alpha=0.8, label='t=5.0s, PINN', color='red')\r\n",
        "        x_star, _, _, s22_star, _ = getFEMsol(5.0)\r\n",
        "        plt.scatter(np.arccos(x_star / 0.1) * 180 / np.pi, s22_star, marker='^', s=7, color='red', alpha=1,\r\n",
        "                    label='t=5.0s, FEM')\r\n",
        "        plt.xlim([0, 90])\r\n",
        "        plt.xticks([0, 30, 60, 90], fontsize=11)\r\n",
        "        plt.ylim([-1.5, 1.0])\r\n",
        "        plt.yticks([-1.5, -1.0, -0.5, 0, 0.5, 1.0], fontsize=11)\r\n",
        "        plt.xlabel(r'$\\theta$/degree', fontsize=12)\r\n",
        "        plt.ylabel(r'$\\sigma_{22}$\\kPa', fontsize=12)\r\n",
        "        plt.legend(fontsize=12, frameon=False)\r\n",
        "        plt.savefig('s22_comparison.pdf', dpi=300)\r\n",
        "        plt.show()\r\n",
        "\r\n",
        "        # Plot stress distribution for s12 on circular surf\r\n",
        "        plt.figure(figsize=(5, 5))\r\n",
        "        _, _, _, _, s12_surf = getPINNsol(2.5)\r\n",
        "        plt.plot(theta * 180 / np.pi, s12_surf, '-', alpha=0.8, label='t=2.5s, PINN', color='blue')\r\n",
        "        x_star, _, _, _, s12_star = getFEMsol(2.5)\r\n",
        "        plt.scatter(np.arccos(x_star / 0.1) * 180 / np.pi, s12_star, marker='^', s=7, color='blue', alpha=1,\r\n",
        "                    label='t=2.5s, FEM')\r\n",
        "        _, _, _, _, s12_surf = getPINNsol(3.75)\r\n",
        "        plt.plot(theta * 180 / np.pi, s12_surf, '-', alpha=0.8, label='t=3.75s, PINN', color='green')\r\n",
        "        x_star, _, _, _, s12_star = getFEMsol(3.75)\r\n",
        "        plt.scatter(np.arccos(x_star / 0.1) * 180 / np.pi, s12_star, marker='^', s=7, color='green', alpha=1,\r\n",
        "                    label='t=3.75s, FEM')\r\n",
        "        _, _, _, _, s12_surf = getPINNsol(5.0)\r\n",
        "        plt.plot(theta * 180 / np.pi, s12_surf, '-', alpha=0.8, label='t=5.0s, PINN', color='red')\r\n",
        "        x_star, _, _, _, s12_star = getFEMsol(5.0)\r\n",
        "        plt.scatter(np.arccos(x_star / 0.1) * 180 / np.pi, s12_star, marker='^', s=7, color='red', alpha=1,\r\n",
        "                    label='t=5.0s, FEM')\r\n",
        "        plt.xlim([0, 90])\r\n",
        "        plt.xticks([0, 30, 60, 90], fontsize=11)\r\n",
        "        plt.ylim([-1.2, 0.4])\r\n",
        "        plt.yticks([-1.2, -0.8, -0.4, 0, 0.4], fontsize=11)\r\n",
        "        plt.xlabel(r'$\\theta$/degree', fontsize=12)\r\n",
        "        plt.ylabel(r'$\\sigma_{12}$\\kPa', fontsize=12)\r\n",
        "        plt.legend(fontsize=12, frameon=False)\r\n",
        "        plt.savefig('s12_comparison.pdf', dpi=300)\r\n",
        "        plt.show()"
      ],
      "execution_count": null,
      "outputs": []
    }
  ]
}